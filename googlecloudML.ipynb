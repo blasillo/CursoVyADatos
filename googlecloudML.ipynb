{
  "nbformat": 4,
  "nbformat_minor": 0,
  "metadata": {
    "colab": {
      "name": "googlecloudML.ipynb",
      "version": "0.3.2",
      "provenance": [],
      "include_colab_link": true
    },
    "kernelspec": {
      "name": "python3",
      "display_name": "Python 3"
    }
  },
  "cells": [
    {
      "cell_type": "markdown",
      "metadata": {
        "id": "view-in-github",
        "colab_type": "text"
      },
      "source": [
        "[View in Colaboratory](https://colab.research.google.com/github/blasillo/CursoVyADatos/blob/master/googlecloudML.ipynb)"
      ]
    },
    {
      "metadata": {
        "id": "r0h7uSMJ4bFS",
        "colab_type": "text"
      },
      "cell_type": "markdown",
      "source": [
        "# Probando las API de Google"
      ]
    },
    {
      "metadata": {
        "id": "EVoXO5-64hqv",
        "colab_type": "text"
      },
      "cell_type": "markdown",
      "source": [
        "##Seguridad \n",
        "\n",
        "Los primero es autenticarse contra las API de Google"
      ]
    },
    {
      "metadata": {
        "id": "SwgY0G084Z4m",
        "colab_type": "code",
        "colab": {
          "base_uri": "https://localhost:8080/",
          "height": 34
        },
        "outputId": "06b09917-e2e2-4547-89ce-ef0e11d116ab"
      },
      "cell_type": "code",
      "source": [
        "import getpass\n",
        "\n",
        "APIKEY = getpass.getpass()\n"
      ],
      "execution_count": 1,
      "outputs": [
        {
          "output_type": "stream",
          "text": [
            "··········\n"
          ],
          "name": "stdout"
        }
      ]
    },
    {
      "metadata": {
        "id": "ck-yKvfX4t_4",
        "colab_type": "code",
        "colab": {
          "base_uri": "https://localhost:8080/",
          "height": 343
        },
        "outputId": "94ef3135-cd44-419c-fafc-1afccbda64c2"
      },
      "cell_type": "code",
      "source": [
        "## actualizar clientes \n",
        "!pip install --upgrade pip\n",
        "\n",
        "!pip install --upgrade google-api-python-client"
      ],
      "execution_count": 2,
      "outputs": [
        {
          "output_type": "stream",
          "text": [
            "Requirement already up-to-date: pip in /usr/local/lib/python3.6/dist-packages (18.0)\n",
            "Collecting google-api-python-client\n",
            "\u001b[?25l  Downloading https://files.pythonhosted.org/packages/56/04/5259a17a16a779426f6e2ac62796135b0d4a59cf8033a21037fd4ba5bf81/google_api_python_client-1.7.4-py3-none-any.whl (55kB)\n",
            "\u001b[K    100% |████████████████████████████████| 61kB 3.8MB/s \n",
            "\u001b[?25hRequirement already satisfied, skipping upgrade: google-auth-httplib2>=0.0.3 in /usr/local/lib/python3.6/dist-packages (from google-api-python-client) (0.0.3)\n",
            "Requirement already satisfied, skipping upgrade: google-auth>=1.4.1 in /usr/local/lib/python3.6/dist-packages (from google-api-python-client) (1.4.2)\n",
            "Requirement already satisfied, skipping upgrade: six<2dev,>=1.6.1 in /usr/local/lib/python3.6/dist-packages (from google-api-python-client) (1.11.0)\n",
            "Requirement already satisfied, skipping upgrade: uritemplate<4dev,>=3.0.0 in /usr/local/lib/python3.6/dist-packages (from google-api-python-client) (3.0.0)\n",
            "Requirement already satisfied, skipping upgrade: httplib2<1dev,>=0.9.2 in /usr/local/lib/python3.6/dist-packages (from google-api-python-client) (0.11.3)\n",
            "Requirement already satisfied, skipping upgrade: rsa>=3.1.4 in /usr/local/lib/python3.6/dist-packages (from google-auth>=1.4.1->google-api-python-client) (4.0)\n",
            "Requirement already satisfied, skipping upgrade: cachetools>=2.0.0 in /usr/local/lib/python3.6/dist-packages (from google-auth>=1.4.1->google-api-python-client) (2.1.0)\n",
            "Requirement already satisfied, skipping upgrade: pyasn1-modules>=0.2.1 in /usr/local/lib/python3.6/dist-packages (from google-auth>=1.4.1->google-api-python-client) (0.2.2)\n",
            "Requirement already satisfied, skipping upgrade: pyasn1>=0.1.3 in /usr/local/lib/python3.6/dist-packages (from rsa>=3.1.4->google-auth>=1.4.1->google-api-python-client) (0.4.4)\n",
            "Installing collected packages: google-api-python-client\n",
            "  Found existing installation: google-api-python-client 1.6.7\n",
            "    Uninstalling google-api-python-client-1.6.7:\n",
            "      Successfully uninstalled google-api-python-client-1.6.7\n",
            "Successfully installed google-api-python-client-1.7.4\n"
          ],
          "name": "stdout"
        }
      ]
    },
    {
      "metadata": {
        "id": "Azfw0HJO5Bqm",
        "colab_type": "text"
      },
      "cell_type": "markdown",
      "source": [
        "##API de traducción\n",
        "\n",
        "\n",
        "Google Cloud Translator utiliza un tipo de red neuronal denominado LSTM.\n"
      ]
    },
    {
      "metadata": {
        "id": "-Rxv-UTs49-3",
        "colab_type": "code",
        "colab": {
          "base_uri": "https://localhost:8080/",
          "height": 68
        },
        "outputId": "2f25324f-acb7-4369-cdd5-dbcf9a94a096"
      },
      "cell_type": "code",
      "source": [
        "# running Translate API\n",
        "from googleapiclient.discovery import build\n",
        "service = build('translate', 'v2', developerKey=APIKEY)\n",
        "\n",
        "# use the service\n",
        "inputs = ['esto es fácil?', 'avances tecnológicos', 'qué risa!']\n",
        "outputs = service.translations().list(source='es', target='gl', q=inputs).execute()\n",
        "# print outputs\n",
        "for input, output in zip(inputs, outputs['translations']):\n",
        "  print(u\"{0} -> {1}\".format(input, output['translatedText']))"
      ],
      "execution_count": 7,
      "outputs": [
        {
          "output_type": "stream",
          "text": [
            "esto es fácil? -> ¿É sinxelo?\n",
            "avances tecnológicos -> avances tecnolóxicos\n",
            "qué risa! -> Que risa!\n"
          ],
          "name": "stdout"
        }
      ]
    },
    {
      "metadata": {
        "id": "tr7KXla46jdf",
        "colab_type": "text"
      },
      "cell_type": "markdown",
      "source": [
        "## API de visión"
      ]
    },
    {
      "metadata": {
        "id": "sm-ItPjt6q8O",
        "colab_type": "text"
      },
      "cell_type": "markdown",
      "source": [
        "Vamos a usar esta imagen http://www.publicdomainpictures.net/view-image.php?image=15842 para ver las propiedades del OCR de Google \n",
        "![texto alternativo](https://www.publicdomainpictures.net/pictures/20000/velka/simplified-chinese-sign.jpg)\n"
      ]
    },
    {
      "metadata": {
        "id": "Yz5ADXV15fvN",
        "colab_type": "code",
        "colab": {
          "base_uri": "https://localhost:8080/",
          "height": 85
        },
        "outputId": "ff420f62-7235-4b53-cb34-bda1f8cb4a34"
      },
      "cell_type": "code",
      "source": [
        "# Running Vision API\n",
        "import base64\n",
        "IMAGE=\"gs://cloud-training-demos/vision/sign2.jpg\"\n",
        "vservice = build('vision', 'v1', developerKey=APIKEY)\n",
        "request = vservice.images().annotate(body={\n",
        "        'requests': [{\n",
        "                'image': {\n",
        "                    'source': {\n",
        "                        'gcs_image_uri': IMAGE\n",
        "                    }\n",
        "                },\n",
        "                'features': [{\n",
        "                    'type': 'TEXT_DETECTION',\n",
        "                    'maxResults': 3,\n",
        "                }]\n",
        "            }],\n",
        "        })\n",
        "responses = request.execute(num_retries=3)\n",
        "print(responses['responses'][0]['textAnnotations'][0]['description'])"
      ],
      "execution_count": 12,
      "outputs": [
        {
          "output_type": "stream",
          "text": [
            "请您爱护和保\n",
            "护卫生创建优\n",
            "美水环境\n",
            "\n"
          ],
          "name": "stdout"
        }
      ]
    },
    {
      "metadata": {
        "id": "mPhB3our7CtG",
        "colab_type": "code",
        "colab": {
          "base_uri": "https://localhost:8080/",
          "height": 102
        },
        "outputId": "13fbe81e-6c3c-45c9-edb2-76ac87838fc3"
      },
      "cell_type": "code",
      "source": [
        "foreigntext = responses['responses'][0]['textAnnotations'][0]['description']\n",
        "foreignlang = responses['responses'][0]['textAnnotations'][0]['locale']\n",
        "print('Language Code = {}.  Foreign Text:\\n{}'.format(foreignlang,foreigntext))\n"
      ],
      "execution_count": 14,
      "outputs": [
        {
          "output_type": "stream",
          "text": [
            "Language Code = zh.  Foreign Text:\n",
            "请您爱护和保\n",
            "护卫生创建优\n",
            "美水环境\n",
            "\n"
          ],
          "name": "stdout"
        }
      ]
    },
    {
      "metadata": {
        "id": "-MEGKJ5K8FBc",
        "colab_type": "text"
      },
      "cell_type": "markdown",
      "source": [
        "##Traduciendo el cartel\n",
        "\n",
        "Como no leo muy bien el chino simplificado ;-) vamos a truducirlo\n",
        "."
      ]
    },
    {
      "metadata": {
        "id": "KRs2E9n47fuu",
        "colab_type": "code",
        "colab": {
          "base_uri": "https://localhost:8080/",
          "height": 85
        },
        "outputId": "20007941-5eb6-4a3c-936f-f0ef39852ac6"
      },
      "cell_type": "code",
      "source": [
        "inputs=[foreigntext]\n",
        "outputs = service.translations().list(source=foreignlang, target='es', q=inputs).execute()\n",
        "# print outputs\n",
        "for input, output in zip(inputs, outputs['translations']):\n",
        "  print(u\"{0} -> {1}\".format(input, output['translatedText']))"
      ],
      "execution_count": 15,
      "outputs": [
        {
          "output_type": "stream",
          "text": [
            "请您爱护和保\n",
            "护卫生创建优\n",
            "美水环境\n",
            " -> Cuida y protege la salud para crear un hermoso ambiente acuático\n"
          ],
          "name": "stdout"
        }
      ]
    },
    {
      "metadata": {
        "id": "VcDn5Wbx8Y5N",
        "colab_type": "code",
        "colab": {}
      },
      "cell_type": "code",
      "source": [
        ""
      ],
      "execution_count": 0,
      "outputs": []
    }
  ]
}